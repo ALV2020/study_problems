{
 "cells": [
  {
   "cell_type": "code",
   "execution_count": 1,
   "id": "5eca0fd0",
   "metadata": {},
   "outputs": [
    {
     "name": "stdout",
     "output_type": "stream",
     "text": [
      "1\n",
      "2\n",
      "3\n",
      "4\n",
      "4\n"
     ]
    }
   ],
   "source": [
    "a = [1,2,3,4,5]\n",
    "for a[-1] in a:\n",
    "     print(a[-1])"
   ]
  },
  {
   "cell_type": "code",
   "execution_count": 5,
   "id": "f6619753",
   "metadata": {},
   "outputs": [
    {
     "name": "stdout",
     "output_type": "stream",
     "text": [
      "{'g': 2, 'o': 2, 'l': 1, 'e': 1}\n"
     ]
    }
   ],
   "source": [
    "a = 'google'\n",
    "b = {}\n",
    "for number in (a):\n",
    "    if number not in b.keys():\n",
    "        b[number] = 1\n",
    "    else:\n",
    "        b[number]+=1\n",
    "print(b)"
   ]
  },
  {
   "cell_type": "code",
   "execution_count": 10,
   "id": "fa0a45e2",
   "metadata": {},
   "outputs": [
    {
     "name": "stdout",
     "output_type": "stream",
     "text": [
      "father called\n",
      "Grandfather called\n"
     ]
    }
   ],
   "source": [
    "class grandfather():\n",
    "    def age(self):\n",
    "        print('Grandfather called')\n",
    " \n",
    "class father():\n",
    "    def age(self):\n",
    "        print('father called')       \n",
    "    \n",
    "class child(father,grandfather):\n",
    "    pass\n",
    " \n",
    "c= child()\n",
    " \n",
    "c.age()\n",
    "grandfather.age(c)\n"
   ]
  },
  {
   "cell_type": "code",
   "execution_count": null,
   "id": "cd7cae0b",
   "metadata": {},
   "outputs": [],
   "source": []
  }
 ],
 "metadata": {
  "kernelspec": {
   "display_name": "Python 3 (ipykernel)",
   "language": "python",
   "name": "python3"
  },
  "language_info": {
   "codemirror_mode": {
    "name": "ipython",
    "version": 3
   },
   "file_extension": ".py",
   "mimetype": "text/x-python",
   "name": "python",
   "nbconvert_exporter": "python",
   "pygments_lexer": "ipython3",
   "version": "3.9.7"
  }
 },
 "nbformat": 4,
 "nbformat_minor": 5
}
